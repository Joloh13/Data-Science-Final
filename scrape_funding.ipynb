{
 "cells": [
  {
   "cell_type": "markdown",
   "metadata": {},
   "source": [
    "# Scraping Funding Data\n",
    "As the Funding per school was not available in a clean format, we decided to write a scraping script"
   ]
  },
  {
   "cell_type": "markdown",
   "metadata": {},
   "source": [
    "## 0. Import Statements"
   ]
  },
  {
   "cell_type": "code",
   "execution_count": 57,
   "metadata": {
    "collapsed": true
   },
   "outputs": [],
   "source": [
    "import pandas as pd\n",
    "import urllib\n",
    "import numpy as np\n",
    "from bs4 import BeautifulSoup"
   ]
  },
  {
   "cell_type": "markdown",
   "metadata": {},
   "source": [
    "### 0.1 Using DBN to identify schools\n",
    "We filter for High schools only"
   ]
  },
  {
   "cell_type": "code",
   "execution_count": 61,
   "metadata": {},
   "outputs": [
    {
     "data": {
      "text/html": [
       "<div>\n",
       "<style scoped>\n",
       "    .dataframe tbody tr th:only-of-type {\n",
       "        vertical-align: middle;\n",
       "    }\n",
       "\n",
       "    .dataframe tbody tr th {\n",
       "        vertical-align: top;\n",
       "    }\n",
       "\n",
       "    .dataframe thead th {\n",
       "        text-align: right;\n",
       "    }\n",
       "</style>\n",
       "<table border=\"1\" class=\"dataframe\">\n",
       "  <thead>\n",
       "    <tr style=\"text-align: right;\">\n",
       "      <th></th>\n",
       "      <th>dbn</th>\n",
       "      <th>report_type</th>\n",
       "      <th>school_type</th>\n",
       "      <th>school</th>\n",
       "    </tr>\n",
       "  </thead>\n",
       "  <tbody>\n",
       "    <tr>\n",
       "      <th>12</th>\n",
       "      <td>01M292</td>\n",
       "      <td>HS</td>\n",
       "      <td>High School</td>\n",
       "      <td>Orchard Collegiate Academy</td>\n",
       "    </tr>\n",
       "    <tr>\n",
       "      <th>20</th>\n",
       "      <td>01M448</td>\n",
       "      <td>HS</td>\n",
       "      <td>High School</td>\n",
       "      <td>University Neighborhood High School</td>\n",
       "    </tr>\n",
       "    <tr>\n",
       "      <th>22</th>\n",
       "      <td>01M450</td>\n",
       "      <td>HS</td>\n",
       "      <td>High School</td>\n",
       "      <td>East Side Community School</td>\n",
       "    </tr>\n",
       "    <tr>\n",
       "      <th>24</th>\n",
       "      <td>01M509</td>\n",
       "      <td>HS</td>\n",
       "      <td>High School</td>\n",
       "      <td>Marta Valle High School</td>\n",
       "    </tr>\n",
       "    <tr>\n",
       "      <th>27</th>\n",
       "      <td>01M539</td>\n",
       "      <td>HS</td>\n",
       "      <td>High School</td>\n",
       "      <td>New Explorations into Science, Technology and ...</td>\n",
       "    </tr>\n",
       "  </tbody>\n",
       "</table>\n",
       "</div>"
      ],
      "text/plain": [
       "       dbn report_type  school_type  \\\n",
       "12  01M292          HS  High School   \n",
       "20  01M448          HS  High School   \n",
       "22  01M450          HS  High School   \n",
       "24  01M509          HS  High School   \n",
       "27  01M539          HS  High School   \n",
       "\n",
       "                                               school  \n",
       "12                         Orchard Collegiate Academy  \n",
       "20                University Neighborhood High School  \n",
       "22                         East Side Community School  \n",
       "24                            Marta Valle High School  \n",
       "27  New Explorations into Science, Technology and ...  "
      ]
     },
     "execution_count": 61,
     "metadata": {},
     "output_type": "execute_result"
    }
   ],
   "source": [
    "df = pd.read_csv('school_codes.csv')\n",
    "df_narrow = df[df['school_type'] == 'High School']\n",
    "df_narrow.head(5)"
   ]
  },
  {
   "cell_type": "code",
   "execution_count": 58,
   "metadata": {},
   "outputs": [
    {
     "data": {
      "text/html": [
       "<div>\n",
       "<style scoped>\n",
       "    .dataframe tbody tr th:only-of-type {\n",
       "        vertical-align: middle;\n",
       "    }\n",
       "\n",
       "    .dataframe tbody tr th {\n",
       "        vertical-align: top;\n",
       "    }\n",
       "\n",
       "    .dataframe thead th {\n",
       "        text-align: right;\n",
       "    }\n",
       "</style>\n",
       "<table border=\"1\" class=\"dataframe\">\n",
       "  <thead>\n",
       "    <tr style=\"text-align: right;\">\n",
       "      <th></th>\n",
       "      <th>dbn</th>\n",
       "      <th>report_type</th>\n",
       "      <th>school_type</th>\n",
       "      <th>school</th>\n",
       "    </tr>\n",
       "  </thead>\n",
       "  <tbody>\n",
       "    <tr>\n",
       "      <th>0</th>\n",
       "      <td>01M015</td>\n",
       "      <td>EMS</td>\n",
       "      <td>Elementary</td>\n",
       "      <td>P.S. 015 Roberto Clemente</td>\n",
       "    </tr>\n",
       "    <tr>\n",
       "      <th>1</th>\n",
       "      <td>01M019</td>\n",
       "      <td>EMS</td>\n",
       "      <td>Elementary</td>\n",
       "      <td>P.S. 019 Asher Levy</td>\n",
       "    </tr>\n",
       "    <tr>\n",
       "      <th>2</th>\n",
       "      <td>01M020</td>\n",
       "      <td>EMS</td>\n",
       "      <td>Elementary</td>\n",
       "      <td>P.S. 020 Anna Silver</td>\n",
       "    </tr>\n",
       "    <tr>\n",
       "      <th>3</th>\n",
       "      <td>01M034</td>\n",
       "      <td>EMS</td>\n",
       "      <td>K-8</td>\n",
       "      <td>P.S. 034 Franklin D. Roosevelt</td>\n",
       "    </tr>\n",
       "    <tr>\n",
       "      <th>4</th>\n",
       "      <td>01M063</td>\n",
       "      <td>EMS</td>\n",
       "      <td>Elementary</td>\n",
       "      <td>The STAR Academy - P.S.63</td>\n",
       "    </tr>\n",
       "  </tbody>\n",
       "</table>\n",
       "</div>"
      ],
      "text/plain": [
       "      dbn report_type school_type                          school\n",
       "0  01M015         EMS  Elementary       P.S. 015 Roberto Clemente\n",
       "1  01M019         EMS  Elementary             P.S. 019 Asher Levy\n",
       "2  01M020         EMS  Elementary            P.S. 020 Anna Silver\n",
       "3  01M034         EMS         K-8  P.S. 034 Franklin D. Roosevelt\n",
       "4  01M063         EMS  Elementary       The STAR Academy - P.S.63"
      ]
     },
     "execution_count": 58,
     "metadata": {},
     "output_type": "execute_result"
    }
   ],
   "source": [
    "df.head(5)"
   ]
  },
  {
   "cell_type": "code",
   "execution_count": 62,
   "metadata": {
    "collapsed": true
   },
   "outputs": [],
   "source": [
    "school_codes = list(df_narrow.dbn)\n",
    "school_codes_clean = [code[2:6] for code in school_codes]"
   ]
  },
  {
   "cell_type": "markdown",
   "metadata": {},
   "source": [
    "## 1. Scrape Script\n",
    "In the HTML file we identified the two spans we want to scrape, these are saved in the variables span_id1 and span_id2. They correspond to the Funding given in AY 2012-2013, and AY 2013-2014, respectively."
   ]
  },
  {
   "cell_type": "code",
   "execution_count": 63,
   "metadata": {
    "collapsed": true
   },
   "outputs": [],
   "source": [
    "base_url = \"https://www.nycenet.edu/publicapps/Offices/FSF/Report.aspx?year=2014&schoolcode=\"\n",
    "span_id1 = \"ContentPlaceHolder1_ctl00_lblL01_R01_a\"\n",
    "span_id2 = \"ContentPlaceHolder1_ctl00_lblL01_R07_g\""
   ]
  },
  {
   "cell_type": "code",
   "execution_count": 64,
   "metadata": {
    "collapsed": true
   },
   "outputs": [],
   "source": [
    "sample_url = base_url + school_codes_clean[0]"
   ]
  },
  {
   "cell_type": "markdown",
   "metadata": {},
   "source": [
    "### 1.1 Scrape Function and its Output\n",
    "We output any unsuccessful attemps at scraping. These are uncessful attemps as the schools did not receive Funding from NYC government."
   ]
  },
  {
   "cell_type": "code",
   "execution_count": 65,
   "metadata": {},
   "outputs": [
    {
     "name": "stderr",
     "output_type": "stream",
     "text": [
      "/Users/noel/anaconda/lib/python3.6/site-packages/bs4/__init__.py:181: UserWarning: No parser was explicitly specified, so I'm using the best available HTML parser for this system (\"lxml\"). This usually isn't a problem, but if you run this code on another system, or in a different virtual environment, it may use a different parser and behave differently.\n",
      "\n",
      "The code that caused this warning is on line 193 of the file /Users/noel/anaconda/lib/python3.6/runpy.py. To get rid of this warning, change code that looks like this:\n",
      "\n",
      " BeautifulSoup([your markup])\n",
      "\n",
      "to this:\n",
      "\n",
      " BeautifulSoup([your markup], \"lxml\")\n",
      "\n",
      "  markup_type=markup_type))\n"
     ]
    },
    {
     "name": "stdout",
     "output_type": "stream",
     "text": [
      "list index out of range\n",
      "M047\n",
      "list index out of range\n",
      "M280\n",
      "list index out of range\n",
      "M282\n",
      "list index out of range\n",
      "M211\n",
      "list index out of range\n",
      "K765\n",
      "list index out of range\n",
      "K764\n",
      "list index out of range\n",
      "Q315\n",
      "list index out of range\n",
      "Q314\n",
      "list index out of range\n",
      "Q334\n",
      "list index out of range\n",
      "Q313\n",
      "list index out of range\n",
      "R028\n",
      "list index out of range\n",
      "K356\n",
      "list index out of range\n",
      "K357\n",
      "list index out of range\n",
      "K358\n",
      "list index out of range\n",
      "K359\n",
      "list index out of range\n",
      "K473\n",
      "list index out of range\n",
      "K508\n",
      "list index out of range\n",
      "K517\n",
      "list index out of range\n",
      "K538\n",
      "list index out of range\n",
      "K608\n",
      "list index out of range\n",
      "K626\n",
      "list index out of range\n",
      "K652\n",
      "list index out of range\n",
      "K693\n",
      "list index out of range\n",
      "K707\n",
      "list index out of range\n",
      "K712\n",
      "list index out of range\n",
      "K730\n",
      "list index out of range\n",
      "K733\n",
      "list index out of range\n",
      "K738\n",
      "list index out of range\n",
      "K739\n",
      "list index out of range\n",
      "K744\n",
      "list index out of range\n",
      "K757\n",
      "list index out of range\n",
      "K775\n",
      "list index out of range\n",
      "K803\n",
      "list index out of range\n",
      "K892\n",
      "list index out of range\n",
      "M065\n",
      "list index out of range\n",
      "M068\n",
      "list index out of range\n",
      "M279\n",
      "list index out of range\n",
      "M284\n",
      "list index out of range\n",
      "M335\n",
      "list index out of range\n",
      "M336\n",
      "list index out of range\n",
      "M341\n",
      "list index out of range\n",
      "M350\n",
      "list index out of range\n",
      "M351\n",
      "list index out of range\n",
      "M353\n",
      "list index out of range\n",
      "M382\n",
      "list index out of range\n",
      "M385\n",
      "list index out of range\n",
      "M433\n",
      "list index out of range\n",
      "M478\n",
      "list index out of range\n",
      "M481\n",
      "list index out of range\n",
      "M522\n",
      "list index out of range\n",
      "M708\n",
      "list index out of range\n",
      "M709\n",
      "list index out of range\n",
      "M726\n",
      "list index out of range\n",
      "Q320\n",
      "list index out of range\n",
      "Q373\n",
      "list index out of range\n",
      "Q705\n",
      "list index out of range\n",
      "R067\n",
      "list index out of range\n",
      "X185\n",
      "list index out of range\n",
      "X202\n",
      "list index out of range\n",
      "X208\n",
      "list index out of range\n",
      "X345\n",
      "list index out of range\n",
      "X347\n",
      "list index out of range\n",
      "X393\n",
      "list index out of range\n",
      "X395\n",
      "list index out of range\n",
      "X429\n",
      "list index out of range\n",
      "X461\n",
      "list index out of range\n",
      "X471\n",
      "list index out of range\n",
      "X482\n",
      "list index out of range\n",
      "X488\n",
      "list index out of range\n",
      "X539\n",
      "list index out of range\n",
      "X553\n",
      "list index out of range\n",
      "X581\n",
      "list index out of range\n",
      "X703\n",
      "list index out of range\n",
      "X704\n"
     ]
    }
   ],
   "source": [
    "data = []\n",
    "\n",
    "for i in range(len(school_codes_clean)):\n",
    "    url = base_url + school_codes_clean[i]\n",
    "    \n",
    "    try:\n",
    "        f = urllib.request.urlopen(url).read()\n",
    "        soup = BeautifulSoup(f)\n",
    "        temp = []\n",
    "\n",
    "        budget_ay12_13 = str(soup.find(\"span\", {\"id\": span_id1})).split('>')[1].split('<')[0][1:]\n",
    "        budget_ay12_13 = budget_ay12_13.replace(',', \"\")\n",
    "\n",
    "        budget_ay13_14 = str(soup.find(\"span\", {\"id\": span_id2})).split('>')[1].split('<')[0][1:]\n",
    "        budget_ay13_14 = budget_ay13_14.replace(',', \"\")\n",
    "\n",
    "        temp.append(school_codes_clean[i])\n",
    "        temp.append(budget_ay12_13)\n",
    "        temp.append(budget_ay13_14)\n",
    "        \n",
    "        data.append(temp)\n",
    "    \n",
    "    except Exception as e:\n",
    "        print(e)\n",
    "        print(school_codes_clean[i])"
   ]
  },
  {
   "cell_type": "code",
   "execution_count": 66,
   "metadata": {},
   "outputs": [
    {
     "name": "stdout",
     "output_type": "stream",
     "text": [
      "Done\n"
     ]
    }
   ],
   "source": [
    "print('Done')"
   ]
  },
  {
   "cell_type": "code",
   "execution_count": 79,
   "metadata": {
    "collapsed": true
   },
   "outputs": [],
   "source": [
    "fundingDF = pd.DataFrame.from_records(data)"
   ]
  },
  {
   "cell_type": "code",
   "execution_count": 80,
   "metadata": {
    "collapsed": true
   },
   "outputs": [],
   "source": [
    "fundingDF = fundingDF.rename(index=str, columns={0: \"DBN\", 1: \"AY12-13\", 2: \"AY13-14\"})"
   ]
  },
  {
   "cell_type": "code",
   "execution_count": 81,
   "metadata": {},
   "outputs": [
    {
     "data": {
      "text/html": [
       "<div>\n",
       "<style scoped>\n",
       "    .dataframe tbody tr th:only-of-type {\n",
       "        vertical-align: middle;\n",
       "    }\n",
       "\n",
       "    .dataframe tbody tr th {\n",
       "        vertical-align: top;\n",
       "    }\n",
       "\n",
       "    .dataframe thead th {\n",
       "        text-align: right;\n",
       "    }\n",
       "</style>\n",
       "<table border=\"1\" class=\"dataframe\">\n",
       "  <thead>\n",
       "    <tr style=\"text-align: right;\">\n",
       "      <th></th>\n",
       "      <th>DBN</th>\n",
       "      <th>AY12-13</th>\n",
       "      <th>AY13-14</th>\n",
       "    </tr>\n",
       "  </thead>\n",
       "  <tbody>\n",
       "    <tr>\n",
       "      <th>0</th>\n",
       "      <td>M292</td>\n",
       "      <td>2357841</td>\n",
       "      <td>2276174</td>\n",
       "    </tr>\n",
       "    <tr>\n",
       "      <th>1</th>\n",
       "      <td>M448</td>\n",
       "      <td>2190592</td>\n",
       "      <td>1967439</td>\n",
       "    </tr>\n",
       "    <tr>\n",
       "      <th>2</th>\n",
       "      <td>M450</td>\n",
       "      <td>3745068</td>\n",
       "      <td>3700670</td>\n",
       "    </tr>\n",
       "    <tr>\n",
       "      <th>3</th>\n",
       "      <td>M509</td>\n",
       "      <td>2198272</td>\n",
       "      <td>2302771</td>\n",
       "    </tr>\n",
       "    <tr>\n",
       "      <th>4</th>\n",
       "      <td>M539</td>\n",
       "      <td>6808136</td>\n",
       "      <td>7034224</td>\n",
       "    </tr>\n",
       "  </tbody>\n",
       "</table>\n",
       "</div>"
      ],
      "text/plain": [
       "    DBN  AY12-13  AY13-14\n",
       "0  M292  2357841  2276174\n",
       "1  M448  2190592  1967439\n",
       "2  M450  3745068  3700670\n",
       "3  M509  2198272  2302771\n",
       "4  M539  6808136  7034224"
      ]
     },
     "execution_count": 81,
     "metadata": {},
     "output_type": "execute_result"
    }
   ],
   "source": [
    "fundingDF.head(5)"
   ]
  },
  {
   "cell_type": "code",
   "execution_count": 82,
   "metadata": {
    "collapsed": true
   },
   "outputs": [],
   "source": [
    "fundingDF.to_csv(\"funding_2012_2014.csv\")"
   ]
  },
  {
   "cell_type": "code",
   "execution_count": null,
   "metadata": {
    "collapsed": true
   },
   "outputs": [],
   "source": []
  }
 ],
 "metadata": {
  "kernelspec": {
   "display_name": "Python 3",
   "language": "python",
   "name": "python3"
  },
  "language_info": {
   "codemirror_mode": {
    "name": "ipython",
    "version": 3
   },
   "file_extension": ".py",
   "mimetype": "text/x-python",
   "name": "python",
   "nbconvert_exporter": "python",
   "pygments_lexer": "ipython3",
   "version": "3.6.7"
  }
 },
 "nbformat": 4,
 "nbformat_minor": 2
}
